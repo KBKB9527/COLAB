{
  "cells": [
    {
      "cell_type": "markdown",
      "metadata": {
        "id": "view-in-github",
        "colab_type": "text"
      },
      "source": [
        "<a href=\"https://colab.research.google.com/github/KBKB9527/COLAB/blob/main/ch01Python%E9%9B%B2%E7%AB%AF%E9%96%8B%E7%99%BC%E5%B9%B3%E5%8F%B0%EF%BC%9AColab.ipynb\" target=\"_parent\"><img src=\"https://colab.research.google.com/assets/colab-badge.svg\" alt=\"Open In Colab\"/></a>"
      ]
    },
    {
      "cell_type": "markdown",
      "metadata": {
        "id": "R3OOZVqjkTfJ"
      },
      "source": [
        "## 執行Shell命令：「!」"
      ]
    },
    {
      "cell_type": "code",
      "execution_count": 1,
      "metadata": {
        "colab": {
          "base_uri": "https://localhost:8080/"
        },
        "id": "Z91Q96s3jpGs",
        "outputId": "1e86572c-6311-4888-b823-7eddc664be18"
      },
      "outputs": [
        {
          "output_type": "stream",
          "name": "stdout",
          "text": [
            "Collecting pytube\n",
            "  Downloading pytube-15.0.0-py3-none-any.whl (57 kB)\n",
            "\u001b[2K     \u001b[90m━━━━━━━━━━━━━━━━━━━━━━━━━━━━━━━━━━━━━━━━\u001b[0m \u001b[32m57.6/57.6 kB\u001b[0m \u001b[31m708.2 kB/s\u001b[0m eta \u001b[36m0:00:00\u001b[0m\n",
            "\u001b[?25hInstalling collected packages: pytube\n",
            "Successfully installed pytube-15.0.0\n"
          ]
        }
      ],
      "source": [
        "!pip install pytube"
      ]
    },
    {
      "cell_type": "code",
      "execution_count": null,
      "metadata": {
        "colab": {
          "base_uri": "https://localhost:8080/"
        },
        "id": "9yHZZk15kD0b",
        "outputId": "8b597a9f-9218-4a78-de45-8fa16a96a697"
      },
      "outputs": [
        {
          "name": "stdout",
          "output_type": "stream",
          "text": [
            "Package                   Version"
          ]
        },
        {
          "name": "stderr",
          "output_type": "stream",
          "text": [
            "\n",
            "[notice] A new release of pip is available: 23.0.1 -> 23.3.2\n",
            "[notice] To update, run: python.exe -m pip install --upgrade pip\n"
          ]
        },
        {
          "name": "stdout",
          "output_type": "stream",
          "text": [
            "\n",
            "------------------------- ------------\n",
            "anyio                     4.1.0\n",
            "argon2-cffi               23.1.0\n",
            "argon2-cffi-bindings      21.2.0\n",
            "arrow                     1.3.0\n",
            "asttokens                 2.4.1\n",
            "async-lru                 2.0.4\n",
            "attrs                     23.1.0\n",
            "Babel                     2.13.1\n",
            "beautifulsoup4            4.12.2\n",
            "bleach                    6.1.0\n",
            "certifi                   2023.11.17\n",
            "cffi                      1.16.0\n",
            "charset-normalizer        3.3.2\n",
            "colorama                  0.4.6\n",
            "comm                      0.2.0\n",
            "contourpy                 1.2.0\n",
            "cycler                    0.12.1\n",
            "debugpy                   1.8.0\n",
            "decorator                 5.1.1\n",
            "defusedxml                0.7.1\n",
            "exceptiongroup            1.2.0\n",
            "executing                 2.0.1\n",
            "fastjsonschema            2.19.0\n",
            "fonttools                 4.46.0\n",
            "fqdn                      1.5.1\n",
            "idna                      3.6\n",
            "ipykernel                 6.27.1\n",
            "ipython                   8.18.1\n",
            "ipywidgets                8.1.1\n",
            "isoduration               20.11.0\n",
            "jedi                      0.19.1\n",
            "Jinja2                    3.1.2\n",
            "json5                     0.9.14\n",
            "jsonpointer               2.4\n",
            "jsonschema                4.20.0\n",
            "jsonschema-specifications 2023.11.2\n",
            "jupyter                   1.0.0\n",
            "jupyter_client            8.6.0\n",
            "jupyter-console           6.6.3\n",
            "jupyter_core              5.5.0\n",
            "jupyter-events            0.9.0\n",
            "jupyter-lsp               2.2.1\n",
            "jupyter_server            2.11.1\n",
            "jupyter_server_terminals  0.4.4\n",
            "jupyterlab                4.0.9\n",
            "jupyterlab_pygments       0.3.0\n",
            "jupyterlab_server         2.25.2\n",
            "jupyterlab-widgets        3.0.9\n",
            "kiwisolver                1.4.5\n",
            "MarkupSafe                2.1.3\n",
            "matplotlib                3.8.2\n",
            "matplotlib-inline         0.1.6\n",
            "mistune                   3.0.2\n",
            "nbclient                  0.9.0\n",
            "nbconvert                 7.11.0\n",
            "nbformat                  5.9.2\n",
            "nest-asyncio              1.5.8\n",
            "notebook                  7.0.6\n",
            "notebook_shim             0.2.3\n",
            "numpy                     1.26.2\n",
            "opencv-python             4.8.1.78\n",
            "overrides                 7.4.0\n",
            "packaging                 23.2\n",
            "pandas                    2.1.3\n",
            "pandocfilters             1.5.0\n",
            "parso                     0.8.3\n",
            "Pillow                    10.1.0\n",
            "pip                       23.0.1\n",
            "platformdirs              4.0.0\n",
            "prometheus-client         0.19.0\n",
            "prompt-toolkit            3.0.41\n",
            "psutil                    5.9.6\n",
            "pure-eval                 0.2.2\n",
            "pycparser                 2.21\n",
            "pygame                    2.5.2\n",
            "Pygments                  2.17.2\n",
            "pyparsing                 3.1.1\n",
            "python-dateutil           2.8.2\n",
            "python-json-logger        2.0.7\n",
            "pytube                    15.0.0\n",
            "pytz                      2023.3.post1\n",
            "pywin32                   306\n",
            "pywinpty                  2.0.12\n",
            "PyYAML                    6.0.1\n",
            "pyzmq                     25.1.1\n",
            "qtconsole                 5.5.1\n",
            "QtPy                      2.4.1\n",
            "referencing               0.31.1\n",
            "requests                  2.31.0\n",
            "rfc3339-validator         0.1.4\n",
            "rfc3986-validator         0.1.1\n",
            "rpds-py                   0.13.2\n",
            "Send2Trash                1.8.2\n",
            "setuptools                65.5.0\n",
            "six                       1.16.0\n",
            "sniffio                   1.3.0\n",
            "soupsieve                 2.5\n",
            "stack-data                0.6.3\n",
            "terminado                 0.18.0\n",
            "tinycss2                  1.2.1\n",
            "tomli                     2.0.1\n",
            "tornado                   6.4\n",
            "traitlets                 5.14.0\n",
            "types-python-dateutil     2.8.19.14\n",
            "typing_extensions         4.8.0\n",
            "tzdata                    2023.3\n",
            "uri-template              1.3.0\n",
            "urllib3                   2.1.0\n",
            "wcwidth                   0.2.12\n",
            "webcolors                 1.13\n",
            "webencodings              0.5.1\n",
            "websocket-client          1.7.0\n",
            "widgetsnbextension        4.0.9\n"
          ]
        }
      ],
      "source": [
        "!pip list"
      ]
    },
    {
      "cell_type": "code",
      "execution_count": 2,
      "metadata": {
        "colab": {
          "base_uri": "https://localhost:8080/"
        },
        "id": "9Nnwi5svkJzu",
        "outputId": "06f654d5-2e83-4584-cb8a-f36f645c81bb"
      },
      "outputs": [
        {
          "output_type": "stream",
          "name": "stdout",
          "text": [
            "/content\n"
          ]
        }
      ],
      "source": [
        "!pwd"
      ]
    },
    {
      "cell_type": "markdown",
      "metadata": {
        "id": "pTKCQ85wknxg"
      },
      "source": [
        "## 魔術指令：「%」"
      ]
    },
    {
      "cell_type": "code",
      "execution_count": null,
      "metadata": {
        "colab": {
          "base_uri": "https://localhost:8080/",
          "height": 243
        },
        "id": "ErDLHyq0kbzn",
        "outputId": "937e260b-f84e-4a74-fbf5-3a33ada9bedb"
      },
      "outputs": [
        {
          "data": {
            "application/json": {
              "cell": {
                "!": "OSMagics",
                "HTML": "Other",
                "SVG": "Other",
                "bash": "Other",
                "capture": "ExecutionMagics",
                "cmd": "Other",
                "code_wrap": "ExecutionMagics",
                "debug": "ExecutionMagics",
                "file": "Other",
                "html": "DisplayMagics",
                "javascript": "DisplayMagics",
                "js": "DisplayMagics",
                "latex": "DisplayMagics",
                "markdown": "DisplayMagics",
                "perl": "Other",
                "prun": "ExecutionMagics",
                "pypy": "Other",
                "python": "Other",
                "python2": "Other",
                "python3": "Other",
                "ruby": "Other",
                "script": "ScriptMagics",
                "sh": "Other",
                "svg": "DisplayMagics",
                "sx": "OSMagics",
                "system": "OSMagics",
                "time": "ExecutionMagics",
                "timeit": "ExecutionMagics",
                "writefile": "OSMagics"
              },
              "line": {
                "alias": "OSMagics",
                "alias_magic": "BasicMagics",
                "autoawait": "AsyncMagics",
                "autocall": "AutoMagics",
                "automagic": "AutoMagics",
                "autosave": "KernelMagics",
                "bookmark": "OSMagics",
                "cd": "OSMagics",
                "clear": "KernelMagics",
                "cls": "KernelMagics",
                "code_wrap": "ExecutionMagics",
                "colors": "BasicMagics",
                "conda": "PackagingMagics",
                "config": "ConfigMagics",
                "connect_info": "KernelMagics",
                "copy": "Other",
                "ddir": "Other",
                "debug": "ExecutionMagics",
                "dhist": "OSMagics",
                "dirs": "OSMagics",
                "doctest_mode": "BasicMagics",
                "echo": "Other",
                "ed": "Other",
                "edit": "KernelMagics",
                "env": "OSMagics",
                "gui": "BasicMagics",
                "hist": "Other",
                "history": "HistoryMagics",
                "killbgscripts": "ScriptMagics",
                "ldir": "Other",
                "less": "KernelMagics",
                "load": "CodeMagics",
                "load_ext": "ExtensionMagics",
                "loadpy": "CodeMagics",
                "logoff": "LoggingMagics",
                "logon": "LoggingMagics",
                "logstart": "LoggingMagics",
                "logstate": "LoggingMagics",
                "logstop": "LoggingMagics",
                "ls": "Other",
                "lsmagic": "BasicMagics",
                "macro": "ExecutionMagics",
                "magic": "BasicMagics",
                "mamba": "PackagingMagics",
                "matplotlib": "PylabMagics",
                "micromamba": "PackagingMagics",
                "mkdir": "Other",
                "more": "KernelMagics",
                "notebook": "BasicMagics",
                "page": "BasicMagics",
                "pastebin": "CodeMagics",
                "pdb": "ExecutionMagics",
                "pdef": "NamespaceMagics",
                "pdoc": "NamespaceMagics",
                "pfile": "NamespaceMagics",
                "pinfo": "NamespaceMagics",
                "pinfo2": "NamespaceMagics",
                "pip": "PackagingMagics",
                "popd": "OSMagics",
                "pprint": "BasicMagics",
                "precision": "BasicMagics",
                "prun": "ExecutionMagics",
                "psearch": "NamespaceMagics",
                "psource": "NamespaceMagics",
                "pushd": "OSMagics",
                "pwd": "OSMagics",
                "pycat": "OSMagics",
                "pylab": "PylabMagics",
                "qtconsole": "KernelMagics",
                "quickref": "BasicMagics",
                "recall": "HistoryMagics",
                "rehashx": "OSMagics",
                "reload_ext": "ExtensionMagics",
                "ren": "Other",
                "rep": "Other",
                "rerun": "HistoryMagics",
                "reset": "NamespaceMagics",
                "reset_selective": "NamespaceMagics",
                "rmdir": "Other",
                "run": "ExecutionMagics",
                "save": "CodeMagics",
                "sc": "OSMagics",
                "set_env": "OSMagics",
                "store": "StoreMagics",
                "sx": "OSMagics",
                "system": "OSMagics",
                "tb": "ExecutionMagics",
                "time": "ExecutionMagics",
                "timeit": "ExecutionMagics",
                "unalias": "OSMagics",
                "unload_ext": "ExtensionMagics",
                "who": "NamespaceMagics",
                "who_ls": "NamespaceMagics",
                "whos": "NamespaceMagics",
                "xdel": "NamespaceMagics",
                "xmode": "BasicMagics"
              }
            },
            "text/plain": [
              "Available line magics:\n",
              "%alias  %alias_magic  %autoawait  %autocall  %automagic  %autosave  %bookmark  %cd  %clear  %cls  %code_wrap  %colors  %conda  %config  %connect_info  %copy  %ddir  %debug  %dhist  %dirs  %doctest_mode  %echo  %ed  %edit  %env  %gui  %hist  %history  %killbgscripts  %ldir  %less  %load  %load_ext  %loadpy  %logoff  %logon  %logstart  %logstate  %logstop  %ls  %lsmagic  %macro  %magic  %mamba  %matplotlib  %micromamba  %mkdir  %more  %notebook  %page  %pastebin  %pdb  %pdef  %pdoc  %pfile  %pinfo  %pinfo2  %pip  %popd  %pprint  %precision  %prun  %psearch  %psource  %pushd  %pwd  %pycat  %pylab  %qtconsole  %quickref  %recall  %rehashx  %reload_ext  %ren  %rep  %rerun  %reset  %reset_selective  %rmdir  %run  %save  %sc  %set_env  %store  %sx  %system  %tb  %time  %timeit  %unalias  %unload_ext  %who  %who_ls  %whos  %xdel  %xmode\n",
              "\n",
              "Available cell magics:\n",
              "%%!  %%HTML  %%SVG  %%bash  %%capture  %%cmd  %%code_wrap  %%debug  %%file  %%html  %%javascript  %%js  %%latex  %%markdown  %%perl  %%prun  %%pypy  %%python  %%python2  %%python3  %%ruby  %%script  %%sh  %%svg  %%sx  %%system  %%time  %%timeit  %%writefile\n",
              "\n",
              "Automagic is ON, % prefix IS NOT needed for line magics."
            ]
          },
          "execution_count": 4,
          "metadata": {},
          "output_type": "execute_result"
        }
      ],
      "source": [
        "%lsmagic"
      ]
    },
    {
      "cell_type": "code",
      "execution_count": 6,
      "metadata": {
        "colab": {
          "base_uri": "https://localhost:8080/"
        },
        "id": "v44amCoHkjor",
        "outputId": "7feddb25-5ce5-4373-ef9e-3042a338c0db"
      },
      "outputs": [
        {
          "output_type": "stream",
          "name": "stdout",
          "text": [
            "21.1 ns ± 5.94 ns per loop (mean ± std. dev. of 7 runs, 10000000 loops each)\n"
          ]
        }
      ],
      "source": [
        "%timeit n=(12**2+15**2)**0.5"
      ]
    },
    {
      "cell_type": "code",
      "execution_count": 3,
      "metadata": {
        "colab": {
          "base_uri": "https://localhost:8080/"
        },
        "id": "LaJXaoG5lRV6",
        "outputId": "30b34cd0-9c22-4276-fadb-503f0101048e"
      },
      "outputs": [
        {
          "output_type": "stream",
          "name": "stdout",
          "text": [
            "791 µs ± 226 µs per loop (mean ± std. dev. of 7 runs, 1000 loops each)\n"
          ]
        }
      ],
      "source": [
        "%%timeit\n",
        "sum=0\n",
        "for i in range(1, 10001):\n",
        "  sum += i"
      ]
    },
    {
      "cell_type": "code",
      "execution_count": 7,
      "metadata": {
        "colab": {
          "base_uri": "https://localhost:8080/"
        },
        "id": "_QAjy94alymr",
        "outputId": "95337c0e-09eb-4f27-b953-3c8f9692440d"
      },
      "outputs": [
        {
          "output_type": "stream",
          "name": "stdout",
          "text": [
            "Overwriting hello.py\n"
          ]
        }
      ],
      "source": [
        "%%writefile hello.py\n",
        "print(\"Hello World\")"
      ]
    },
    {
      "cell_type": "code",
      "execution_count": 8,
      "metadata": {
        "colab": {
          "base_uri": "https://localhost:8080/"
        },
        "id": "SSPz2dul_QDK",
        "outputId": "039e8039-8093-48a4-8f83-17e8f856f78b"
      },
      "outputs": [
        {
          "output_type": "stream",
          "name": "stdout",
          "text": [
            "Hello World\n"
          ]
        }
      ],
      "source": [
        "%run hello.py"
      ]
    },
    {
      "cell_type": "code",
      "execution_count": 9,
      "metadata": {
        "colab": {
          "base_uri": "https://localhost:8080/"
        },
        "id": "CbsRHksB_UoG",
        "outputId": "960166dc-4c2f-4306-cf9f-11b76ceedc3f"
      },
      "outputs": [
        {
          "output_type": "stream",
          "name": "stdout",
          "text": [
            "Variable   Type    Data/Info\n",
            "----------------------------\n",
            "a          int     20\n",
            "b          int     20\n",
            "c          int     20\n"
          ]
        }
      ],
      "source": [
        "a = b = c = 20\n",
        "%whos"
      ]
    },
    {
      "cell_type": "markdown",
      "metadata": {
        "id": "u-DnmQIJbnGt"
      },
      "source": [
        "# Colab的筆記功能"
      ]
    },
    {
      "cell_type": "markdown",
      "metadata": {
        "id": "ckIiBMLebydI"
      },
      "source": [
        "# 這是標題1文字\n",
        "## 這是標題2文字\n",
        "### 這是標題3文字\n",
        "#### 這是標題4文字\n",
        "##### 這是標題5文字\n",
        "###### 這是標題6文字"
      ]
    },
    {
      "cell_type": "markdown",
      "metadata": {
        "id": "GO3ydrqLcO-v"
      },
      "source": [
        "Markdown是約翰·格魯伯(John Gruber)所發明， 是一種輕量級標記式語言。\n",
        "\n",
        "目前有許多網站使用Markdown來撰寫說明文件， 也有很多論壇以Markdown發表文章與發送訊息。"
      ]
    },
    {
      "cell_type": "markdown",
      "metadata": {
        "id": "w_4Z0nOac3I4"
      },
      "source": [
        "這是段落1文字\n",
        ">這是引用文字\n",
        "\n",
        "這是段落2文字"
      ]
    },
    {
      "cell_type": "markdown",
      "metadata": {
        "id": "GFg4pGyOdMXl"
      },
      "source": [
        "- 第一種清單符號「-」\n",
        "+ 第二種清單符號「+」\n",
        "* 第三種清單符號「*」\n",
        "  - 第二層子清單一\n",
        "  - 第二層子清單二\n",
        "      - 第三層子清單"
      ]
    },
    {
      "cell_type": "markdown",
      "metadata": {
        "id": "CB1dTtfBeAW0"
      },
      "source": [
        "1. 數字清單1\n",
        "2. 數字清單2\n",
        "3. 數字清單3\n",
        "  1. 第二層數字清單1\n",
        "  2. 第二層數字清單2\n",
        "    1. 第三層數字清單\n",
        "\n",
        "2020\\. 新冠肺炎肆虐全球"
      ]
    },
    {
      "cell_type": "markdown",
      "metadata": {
        "id": "3sm34sygfDF4"
      },
      "source": [
        "第一段文字\n",
        "***\n",
        "第二段文字\n",
        "___\n",
        "第三段文字\n"
      ]
    },
    {
      "cell_type": "markdown",
      "metadata": {
        "id": "6dA8i-InfyCs"
      },
      "source": [
        "下面是區塊程式碼：\n",
        "```\n",
        "total = i = 1\n",
        "n = int(input(\"請輸入正整數 n 的值：\"))\n",
        "while(i<=n):\n",
        "    total *= i  \n",
        "    i+=1      \n",
        "print(\"%d!=%d\" % (n, total))\n",
        "```"
      ]
    },
    {
      "cell_type": "markdown",
      "metadata": {
        "id": "N0EZsDOahUMS"
      },
      "source": [
        "示範：_斜體字一_\n",
        "\n",
        "示範：*斜體字二*"
      ]
    },
    {
      "cell_type": "markdown",
      "metadata": {
        "id": "2UABkGxWho-z"
      },
      "source": [
        "示範：__粗體字一__\n",
        "\n",
        "示範：**粗體字二**"
      ]
    },
    {
      "cell_type": "markdown",
      "metadata": {
        "id": "HQLJeUhDiBcX"
      },
      "source": [
        "<a href='http://www.e-happy.com.tw'>文淵閣工作室</a>\n",
        "\n",
        "[文淵閣工作室](http://www.e-happy.com.tw)"
      ]
    },
    {
      "cell_type": "markdown",
      "metadata": {
        "id": "ADJPtGxpnkgI"
      },
      "source": [
        "HTML中若要強調某些文字可用 `<strong>` 及 `</strong>` 將其包圍起來。"
      ]
    },
    {
      "cell_type": "markdown",
      "metadata": {
        "id": "tAEaPA7c6BFx"
      },
      "source": [
        "<img src=\"https://encrypted-tbn0.gstatic.com/images?q=tbn:ANd9GcQ_Oji5JCN9oN-imWu0_MSioiO9cRPqlwQvhA&usqp=CAU\" alt=\"大蘋果\" />"
      ]
    },
    {
      "cell_type": "markdown",
      "metadata": {
        "id": "JaDoRDcH6Czc"
      },
      "source": [
        "![大蘋果](https://encrypted-tbn0.gstatic.com/images?q=tbn:ANd9GcQ_Oji5JCN9oN-imWu0_MSioiO9cRPqlwQvhA&usqp=CAU)"
      ]
    }
  ],
  "metadata": {
    "colab": {
      "provenance": [],
      "toc_visible": true,
      "include_colab_link": true
    },
    "kernelspec": {
      "display_name": "Python 3 (ipykernel)",
      "language": "python",
      "name": "python3"
    },
    "language_info": {
      "codemirror_mode": {
        "name": "ipython",
        "version": 3
      },
      "file_extension": ".py",
      "mimetype": "text/x-python",
      "name": "python",
      "nbconvert_exporter": "python",
      "pygments_lexer": "ipython3",
      "version": "3.10.11"
    }
  },
  "nbformat": 4,
  "nbformat_minor": 0
}